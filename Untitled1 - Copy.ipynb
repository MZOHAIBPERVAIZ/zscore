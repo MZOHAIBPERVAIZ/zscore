{
  "nbformat": 4,
  "nbformat_minor": 0,
  "metadata": {
    "colab": {
      "name": "Untitled1.ipynb",
      "provenance": []
    },
    "kernelspec": {
      "name": "python3",
      "display_name": "Python 3"
    },
    "language_info": {
      "name": "python"
    }
  },
  "cells": [
    {
      "cell_type": "code",
      "execution_count": 2,
      "metadata": {
        "id": "Oj6-5tIv2a-f"
      },
      "outputs": [],
      "source": [
        "import numpy as np\n",
        "import pandas as pd\n",
        "import scipy.stats as stats"
      ]
    },
    {
      "cell_type": "code",
      "source": [
        "data = np.array([6,7,7,12,13,15,16,19,22])"
      ],
      "metadata": {
        "id": "gz4ZypqL3AzW"
      },
      "execution_count": 4,
      "outputs": []
    },
    {
      "cell_type": "code",
      "source": [
        "stats.zscore(data)"
      ],
      "metadata": {
        "colab": {
          "base_uri": "https://localhost:8080/"
        },
        "id": "MFF94v793UDD",
        "outputId": "cd0f791b-b958-4c5b-ce56-eb08bce1640b"
      },
      "execution_count": 7,
      "outputs": [
        {
          "output_type": "execute_result",
          "data": {
            "text/plain": [
              "array([-1.32287566, -1.13389342, -1.13389342, -0.18898224,  0.        ,\n",
              "        0.37796447,  0.56694671,  1.13389342,  1.70084013])"
            ]
          },
          "metadata": {},
          "execution_count": 7
        }
      ]
    }
  ]
}